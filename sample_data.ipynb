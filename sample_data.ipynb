{
 "cells": [
  {
   "cell_type": "code",
   "execution_count": 2,
   "metadata": {},
   "outputs": [],
   "source": [
    "CLIENT_TOKEN = \"Y5g50iLa1Y94XWlQP8uRycmlqng8EHVDfe1RB7jO2AqDClCpwSEXD7T2EV0eU00y\""
   ]
  },
  {
   "cell_type": "code",
   "execution_count": 3,
   "metadata": {},
   "outputs": [
    {
     "name": "stdout",
     "output_type": "stream",
     "text": [
      "Searching for songs by Justin Timberlake...\n",
      "\n",
      "Song 1: \"Mirrors\"\n",
      "Song 2: \"Suit & Tie\"\n",
      "Song 3: \"Say Something\"\n",
      "Song 4: \"SexyBack\"\n",
      "Song 5: \"Can’t Stop The Feeling!\"\n",
      "Song 6: \"Cry Me A River\"\n",
      "Song 7: \"Pusher Love Girl\"\n",
      "Song 8: \"Filthy\"\n",
      "Song 9: \"My Love\"\n",
      "Song 10: \"TKO (Black Friday Remix)\"\n",
      "\n",
      "Reached user-specified song limit (10).\n",
      "Done. Found 10 songs.\n",
      "[Song(id, artist, ...), Song(id, artist, ...), Song(id, artist, ...), Song(id, artist, ...), Song(id, artist, ...), Song(id, artist, ...), Song(id, artist, ...), Song(id, artist, ...), Song(id, artist, ...), Song(id, artist, ...)]\n"
     ]
    }
   ],
   "source": [
    "from lyricsgenius import Genius\n",
    "\n",
    "genius = Genius(CLIENT_TOKEN)\n",
    "artist = genius.search_artist(\"Justin Timberlake\", max_songs=10)\n",
    "print(artist.songs)"
   ]
  },
  {
   "cell_type": "code",
   "execution_count": 4,
   "metadata": {},
   "outputs": [
    {
     "name": "stdout",
     "output_type": "stream",
     "text": [
      "Wrote Lyrics_JustinTimberlake.json.\n"
     ]
    }
   ],
   "source": [
    "artist.save_lyrics()"
   ]
  },
  {
   "cell_type": "code",
   "execution_count": 10,
   "metadata": {},
   "outputs": [],
   "source": [
    "import json\n",
    "\n",
    "with open('Lyrics_JustinTimberlake.json') as f:\n",
    "    data = json.load(f)\n",
    "    \n",
    "filtered_songs = [\n",
    "    {\"full_title\": song.get(\"full_title\"), \"lyrics\": song.get(\"lyrics\")}\n",
    "    for song in data.get(\"songs\", [])  # Ensures it works even if 'songs' is missing\n",
    "]\n",
    "\n",
    "# Save to a new JSON file\n",
    "with open('filtered_songs.json', 'w') as file:\n",
    "    json.dump(filtered_songs, file, indent=4)"
   ]
  }
 ],
 "metadata": {
  "kernelspec": {
   "display_name": "Python 3",
   "language": "python",
   "name": "python3"
  },
  "language_info": {
   "codemirror_mode": {
    "name": "ipython",
    "version": 3
   },
   "file_extension": ".py",
   "mimetype": "text/x-python",
   "name": "python",
   "nbconvert_exporter": "python",
   "pygments_lexer": "ipython3",
   "version": "3.11.9"
  }
 },
 "nbformat": 4,
 "nbformat_minor": 2
}
